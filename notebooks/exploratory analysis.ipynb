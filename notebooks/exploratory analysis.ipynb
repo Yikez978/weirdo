{
 "cells": [
  {
   "cell_type": "code",
   "execution_count": null,
   "metadata": {
    "collapsed": false
   },
   "outputs": [],
   "source": [
    "import psycopg2\n",
    "from auth_gl import connection_string_gl #saved my username password"
   ]
  },
  {
   "cell_type": "code",
   "execution_count": null,
   "metadata": {
    "collapsed": false
   },
   "outputs": [],
   "source": [
    "#connect to rds\n",
    "conn = psycopg2.connect(connection_string_gl)\n",
    "cur = conn.cursor()"
   ]
  },
  {
   "cell_type": "code",
   "execution_count": null,
   "metadata": {
    "collapsed": true
   },
   "outputs": [],
   "source": [
    "#helper function to run sql command and fetchall\n",
    "def run_sql(cur, command):\n",
    "    cur.execute(command)\n",
    "    return cur.fetchall()"
   ]
  },
  {
   "cell_type": "code",
   "execution_count": null,
   "metadata": {
    "collapsed": false,
    "scrolled": false
   },
   "outputs": [],
   "source": [
    "# TAG REDTEAM ACTIVITIES IN AUTH - to run\n",
    "sql_cmd = (\"UPDATE auth SET redteam = 'RED' FROM redteam \"\n",
    "           \"WHERE auth.tstamp = redteam.tstamp::integer \" #redteam tstamp is varchar\n",
    "           \"AND auth.srcuserdomain = redteam.userdomain \"\n",
    "           \"AND auth.srccomputer = redteam.src \"\n",
    "           \"AND auth.dstcomputer = redteam.dst \")\n",
    "%time re = run_sql(cur, sql_cmd)"
   ]
  },
  {
   "cell_type": "code",
   "execution_count": null,
   "metadata": {
    "collapsed": true
   },
   "outputs": [],
   "source": [
    "#need to rollback if error\n",
    "cur.execute(\"rollback\")"
   ]
  },
  {
   "cell_type": "code",
   "execution_count": null,
   "metadata": {
    "collapsed": false,
    "scrolled": true
   },
   "outputs": [],
   "source": [
    "#template - query column name and data type\n",
    "run_sql(cur, \"select column_name, data_type from information_schema.columns where table_name='auth'\")"
   ]
  },
  {
   "cell_type": "code",
   "execution_count": null,
   "metadata": {
    "collapsed": false
   },
   "outputs": [],
   "source": [
    "#template to time a command using jupyter\n",
    "sql_cmd = \"select * from auth limit 100\"\n",
    "%timeit run_sql(cur, sql_cmd)"
   ]
  },
  {
   "cell_type": "code",
   "execution_count": null,
   "metadata": {
    "collapsed": false
   },
   "outputs": [],
   "source": [
    "#template - sql explain analyze\n",
    "run_sql(cur, \"explain analyze select redteam, count(*) from flows group by redteam\")"
   ]
  },
  {
   "cell_type": "code",
   "execution_count": null,
   "metadata": {
    "collapsed": true
   },
   "outputs": [],
   "source": [
    "#disconnect\n",
    "cur.close()\n",
    "conn.close()"
   ]
  }
 ],
 "metadata": {
  "kernelspec": {
   "display_name": "Python 2",
   "language": "python",
   "name": "python2"
  },
  "language_info": {
   "codemirror_mode": {
    "name": "ipython",
    "version": 2
   },
   "file_extension": ".py",
   "mimetype": "text/x-python",
   "name": "python",
   "nbconvert_exporter": "python",
   "pygments_lexer": "ipython2",
   "version": "2.7.9"
  }
 },
 "nbformat": 4,
 "nbformat_minor": 0
}
