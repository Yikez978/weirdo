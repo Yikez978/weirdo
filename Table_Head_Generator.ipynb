{
 "cells": [
  {
   "cell_type": "markdown",
   "metadata": {},
   "source": [
    "This script includes a function to query the database and prints the list of table names,as well  a second function that accepts table name and number of rows as arguments \n",
    "and prints a summary of the head of each table."
   ]
  },
  {
   "cell_type": "code",
   "execution_count": 1,
   "metadata": {
    "collapsed": false
   },
   "outputs": [],
   "source": [
    "import psycopg2\n",
    "from auth_js import connection_string_js"
   ]
  },
  {
   "cell_type": "code",
   "execution_count": 2,
   "metadata": {
    "collapsed": true
   },
   "outputs": [],
   "source": [
    "#Connect to rds\n",
    "try:\n",
    "    conn = psycopg2.connect(connection_string_js)\n",
    "except:\n",
    "    print \"\\n_________CONNECTION FAILURE_________\\n\"\n",
    "cur = conn.cursor()"
   ]
  },
  {
   "cell_type": "code",
   "execution_count": 3,
   "metadata": {
    "collapsed": true
   },
   "outputs": [],
   "source": [
    "#This function prints the names of the tables \n",
    "def table_lister ():\n",
    "    cur.execute(\"\"\"SELECT table_name FROM information_schema.tables WHERE table_schema = 'public'\"\"\")\n",
    "    rows = cur.fetchall()\n",
    "    for row in rows:\n",
    "        print row[0]"
   ]
  },
  {
   "cell_type": "code",
   "execution_count": 4,
   "metadata": {
    "collapsed": true
   },
   "outputs": [],
   "source": [
    "#This function prints columns and top rows from table, it accepts table name and number of rows as arguments.\n",
    "def head_generator (table, limit):\n",
    "    cur.execute(\"\"\"SELECT * FROM %s LIMIT %s\"\"\" % (table, limit))\n",
    "    col_names = [cn[0] for cn in cur.description]\n",
    "    rows = cur.fetchall()\n",
    "    print table\n",
    "    print col_names\n",
    "    for row in rows:\n",
    "        print row\n",
    "    print '\\n'"
   ]
  },
  {
   "cell_type": "code",
   "execution_count": null,
   "metadata": {
    "collapsed": true
   },
   "outputs": [],
   "source": [
    "#Execute functions.\n",
    "if __name__ == '__main__':\n",
    "    table_lister()\n",
    "    head_generator('flows',5)\n",
    "    head_generator('redteam',5)\n",
    "    head_generator('dns',5)\n",
    "    head_generator('proc',5)\n",
    "    head_generator('auth',5)"
   ]
  },
  {
   "cell_type": "code",
   "execution_count": null,
   "metadata": {
    "collapsed": true
   },
   "outputs": [],
   "source": [
    "#disconnect\n",
    "cur.close()\n",
    "conn.close()"
   ]
  }
 ],
 "metadata": {
  "kernelspec": {
   "display_name": "Python 2",
   "language": "python",
   "name": "python2"
  },
  "language_info": {
   "codemirror_mode": {
    "name": "ipython",
    "version": 2
   },
   "file_extension": ".py",
   "mimetype": "text/x-python",
   "name": "python",
   "nbconvert_exporter": "python",
   "pygments_lexer": "ipython2",
   "version": "2.7.11"
  }
 },
 "nbformat": 4,
 "nbformat_minor": 0
}
